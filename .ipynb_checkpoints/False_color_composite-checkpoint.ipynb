{
 "cells": [
  {
   "cell_type": "markdown",
   "id": "b259daf1-f027-4718-931b-0f07222f2589",
   "metadata": {},
   "source": [
    "## Install the following in the termial if you have not"
   ]
  },
  {
   "cell_type": "code",
   "execution_count": 2,
   "id": "8085241c-d29a-413e-8f0b-05456ba48745",
   "metadata": {},
   "outputs": [],
   "source": [
    "# Install necessary Python packages if not already installed \n",
    "# QGIS from the website\n",
    "# !pip install PyQt5\n"
   ]
  },
  {
   "cell_type": "markdown",
   "id": "fd5b9aa3-47ab-439c-af14-1218213f1e94",
   "metadata": {},
   "source": [
    "## For a false color composite in Landsat 8, you can use bands 5, 4, and 3 to create an image with near-infrared, red, and green components, respectively. This combination is often referred to as the \"NIR-Red-Green\" composite and is useful for vegetation analysis and land cover classification."
   ]
  },
  {
   "cell_type": "code",
   "execution_count": null,
   "id": "097b93f0-0b7a-4752-be4d-64205198889d",
   "metadata": {},
   "outputs": [],
   "source": [
    "# Import required libraries\n",
    "from qgis.core import QgsApplication, QgsVectorLayer, QgsProject, QgsRasterLayerSettings, QgsSingleBandPseudoColorRenderer\n",
    "from qgis.PyQt.QtGui import QImage, QColor\n",
    "\n",
    "# Start QGIS application\n",
    "qgs = QgsApplication([], False)\n",
    "qgs.initQgis()\n",
    "\n",
    "# Set up the path to your QGIS project and input raster layers\n",
    "project_path = \"/path/to/your/project.qgs\"\n",
    "raster_paths = [\"/path/to/red_band.tif\", \"/path/to/green_band.tif\", \"/path/to/blue_band.tif\"]\n",
    "\n",
    "# Load raster layers into QGIS project\n",
    "project = QgsProject.instance()\n",
    "project.read(project_path)\n",
    "for raster_path in raster_paths:\n",
    "    layer = QgsRasterLayer(raster_path, \"\")\n",
    "    project.addMapLayer(layer)\n",
    "\n",
    "# Define band combinations for false color composite\n",
    "red_band = 1\n",
    "green_band = 2\n",
    "blue_band = 3\n",
    "\n",
    "# Create a false color composite renderer\n",
    "settings = QgsRasterLayerSettings()\n",
    "settings.renderer = QgsSingleBandPseudoColorRenderer(layer.dataProvider(), red_band, QgsSingleBandPseudoColorRenderer.createDefaultColorTable(3))\n",
    "layer.setRendererSettings(settings)\n",
    "\n",
    "# Refresh the map canvas\n",
    "iface = iface # Change this to your QGIS interface reference in Jupyter notebook\n",
    "iface.mapCanvas().refreshAllLayers()\n",
    "\n",
    "# Export the map as JPG\n",
    "image_path = \"/path/to/output/false_color_composite.jpg\"\n",
    "image = QImage(iface.mapCanvas().size(), QImage.Format_ARGB32)\n",
    "image.fill(QColor(255, 255, 255).rgb())\n",
    "painter = QPainter(image)\n",
    "iface.mapCanvas().render(painter)\n",
    "image.save(image_path)\n",
    "\n",
    "# Save the QGIS project for further tweaking\n",
    "project.write()\n",
    "\n",
    "# Stop QGIS application\n",
    "qgs.exitQgis()\n"
   ]
  }
 ],
 "metadata": {
  "kernelspec": {
   "display_name": "Python 3 (ipykernel)",
   "language": "python",
   "name": "python3"
  },
  "language_info": {
   "codemirror_mode": {
    "name": "ipython",
    "version": 3
   },
   "file_extension": ".py",
   "mimetype": "text/x-python",
   "name": "python",
   "nbconvert_exporter": "python",
   "pygments_lexer": "ipython3",
   "version": "3.12.0"
  }
 },
 "nbformat": 4,
 "nbformat_minor": 5
}
