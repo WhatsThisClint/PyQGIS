{
 "cells": [
  {
   "cell_type": "markdown",
   "id": "2f9b1555",
   "metadata": {},
   "source": [
    "## QGIS in Python"
   ]
  },
  {
   "cell_type": "markdown",
   "id": "8085241c-d29a-413e-8f0b-05456ba48745",
   "metadata": {},
   "source": [
    "To run QGIS Python code, you need to have QGIS and its Python bindings installed on your system. Here's a general guide on how to do it:\n",
    "\n",
    "Install QGIS: The installation process depends on your operating system. You can download QGIS from the official website (https://www.qgis.org/en/site/forusers/download.html). Follow the instructions provided for your specific operating system.\n",
    "\n",
    "Install Python bindings for QGIS (PyQGIS): PyQGIS is included **by default** with the QGIS installation. You just need to make sure that you're using the Python version that comes with QGIS, or that your Python environment has access to the QGIS modules.\n",
    "\n",
    "For Windows, the Python that comes with QGIS is usually located in the bin folder of the QGIS installation directory (e.g., C:\\Program Files\\QGIS 3.16\\bin). You can add this path to your system's PATH environment variable.\n",
    "\n",
    "For Linux, QGIS and its Python bindings can be installed using the package manager of your distribution. For example, on Ubuntu, you can use the following commands:\n",
    "\n",
    "                sudo apt-get update\n",
    "                sudo apt-get install qgis python-qgis\n",
    "\n",
    "Install additional Python packages: If your script uses additional Python packages (like os or QImage from PyQt5), you need to install them as well. This can usually be done with pip, Python's package installer. For example: \n",
    "\n",
    "            pip install PyQt5\n",
    "\n",
    "Remember to use the correct pip associated with your QGIS Python installation."
   ]
  },
  {
   "cell_type": "markdown",
   "id": "d3d062b2",
   "metadata": {},
   "source": [
    "### Check if QGIS and its Python bindings (PyQGIS) are installed correctly."
   ]
  },
  {
   "cell_type": "code",
   "execution_count": null,
   "id": "7dc4a9e7",
   "metadata": {},
   "outputs": [],
   "source": [
    "from qgis.core import QgsApplication\n",
    "\n",
    "try:\n",
    "    QgsApplication\n",
    "    print(\"QGIS and PyQGIS are installed correctly.\")\n",
    "except ImportError:\n",
    "    print(\"QGIS or PyQGIS is not installed correctly.\")"
   ]
  },
  {
   "cell_type": "markdown",
   "id": "61e6d7d3",
   "metadata": {},
   "source": [
    "### False Color Composite (FCC)"
   ]
  },
  {
   "cell_type": "markdown",
   "id": "fd5b9aa3-47ab-439c-af14-1218213f1e94",
   "metadata": {},
   "source": [
    "For a false color composite in Landsat 8, you can use bands 5, 4, and 3 to create an image with near-infrared, red, and green components, respectively. This combination is often referred to as the \"NIR-Red-Green\" composite and is useful for vegetation analysis and land cover classification."
   ]
  },
  {
   "cell_type": "code",
   "execution_count": null,
   "id": "5205bdb3",
   "metadata": {},
   "outputs": [],
   "source": [
    "import os\n",
    "from qgis.core import QgsApplication, QgsVectorLayer, QgsProject, QgsRasterLayerSettings, QgsSingleBandPseudoColorRenderer\n",
    "from qgis.PyQt.QtGui import QImage, QColor\n",
    "from qgis.PyQt.QtGui import QPainter\n",
    "\n",
    "# Define paths\n",
    "PROJECT_PATH = \"/path/to/your/project.qgs\"\n",
    "RASTER_PATHS = [\"/path/to/red_band.tif\", \"/path/to/green_band.tif\", \"/path/to/blue_band.tif\"]\n",
    "IMAGE_PATH = \"/path/to/output/false_color_composite.jpg\"\n",
    "\n",
    "def start_qgis():\n",
    "    \"\"\"\n",
    "    Start the QGIS application.\n",
    "\n",
    "    Returns:\n",
    "        QgsApplication: The QGIS application instance.\n",
    "    \"\"\"\n",
    "    qgs = QgsApplication([], False)\n",
    "    qgs.initQgis()\n",
    "    return qgs\n",
    "\n",
    "def load_layers():\n",
    "    \"\"\"\n",
    "    Load raster layers into the QGIS project.\n",
    "\n",
    "    Returns:\n",
    "        QgsProject: The QGIS project instance.\n",
    "        QgsRasterLayer: The loaded raster layer.\n",
    "    Raises:\n",
    "        FileNotFoundError: If the project file or any of the raster files are not found.\n",
    "    \"\"\"\n",
    "    if not os.path.exists(PROJECT_PATH):\n",
    "        raise FileNotFoundError(f\"Project file {PROJECT_PATH} not found.\")\n",
    "    project = QgsProject.instance()\n",
    "    project.read(PROJECT_PATH)\n",
    "    for raster_path in RASTER_PATHS:\n",
    "        if not os.path.exists(raster_path):\n",
    "            raise FileNotFoundError(f\"Raster file {raster_path} not found.\")\n",
    "        layer = QgsRasterLayer(raster_path, \"\")\n",
    "        project.addMapLayer(layer)\n",
    "    return project, layer\n",
    "\n",
    "def create_false_color_composite(layer, red_band=1, green_band=2, blue_band=3):\n",
    "    \"\"\"\n",
    "    Create a false color composite from the given raster layer.\n",
    "\n",
    "    Args:\n",
    "        layer (QgsRasterLayer): The raster layer to create the composite from.\n",
    "        red_band (int): The band index for the red channel (default: 1).\n",
    "        green_band (int): The band index for the green channel (default: 2).\n",
    "        blue_band (int): The band index for the blue channel (default: 3).\n",
    "    \"\"\"\n",
    "    settings = QgsRasterLayerSettings()\n",
    "    settings.renderer = QgsSingleBandPseudoColorRenderer(layer.dataProvider(), red_band, QgsSingleBandPseudoColorRenderer.createDefaultColorTable(3))\n",
    "    layer.setRendererSettings(settings)\n",
    "\n",
    "def refresh_and_export(iface):\n",
    "    \"\"\"\n",
    "    Refresh the map canvas and export the image.\n",
    "\n",
    "    Args:\n",
    "        iface: The QGIS interface reference in Jupyter notebook.\n",
    "    \"\"\"\n",
    "    iface.mapCanvas().refreshAllLayers()\n",
    "    image = QImage(iface.mapCanvas().size(), QImage.Format_ARGB32)\n",
    "    image.fill(QColor(255, 255, 255).rgb())\n",
    "    painter = QPainter(image)\n",
    "    iface.mapCanvas().render(painter)\n",
    "    image.save(IMAGE_PATH)\n",
    "\n",
    "def main():\n",
    "    \"\"\"\n",
    "    Main function to execute the workflow.\n",
    "    \"\"\"\n",
    "    qgs = start_qgis()\n",
    "    project, layer = load_layers()\n",
    "    create_false_color_composite(layer)\n",
    "    iface = iface # Change this to your QGIS interface reference in Jupyter notebook\n",
    "    refresh_and_export(iface)\n",
    "    project.write()\n",
    "    qgs.exitQgis()\n",
    "\n",
    "if __name__ == \"__main__\":\n",
    "    main()"
   ]
  }
 ],
 "metadata": {
  "kernelspec": {
   "display_name": "Python 3 (ipykernel)",
   "language": "python",
   "name": "python3"
  },
  "language_info": {
   "codemirror_mode": {
    "name": "ipython",
    "version": 3
   },
   "file_extension": ".py",
   "mimetype": "text/x-python",
   "name": "python",
   "nbconvert_exporter": "python",
   "pygments_lexer": "ipython3",
   "version": "3.12.0"
  }
 },
 "nbformat": 4,
 "nbformat_minor": 5
}
